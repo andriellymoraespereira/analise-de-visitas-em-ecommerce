{
  "nbformat": 4,
  "nbformat_minor": 0,
  "metadata": {
    "colab": {
      "provenance": [],
      "toc_visible": true,
      "authorship_tag": "ABX9TyOPMb8xJqtqHeGUE4IEYx0H",
      "include_colab_link": true
    },
    "kernelspec": {
      "name": "python3",
      "display_name": "Python 3"
    },
    "language_info": {
      "name": "python"
    }
  },
  "cells": [
    {
      "cell_type": "markdown",
      "metadata": {
        "id": "view-in-github",
        "colab_type": "text"
      },
      "source": [
        "<a href=\"https://colab.research.google.com/github/andriellymoraespereira/analise-de-visitas-em-ecommerce/blob/main/01_data_cleaning.ipynb\" target=\"_parent\"><img src=\"https://colab.research.google.com/assets/colab-badge.svg\" alt=\"Open In Colab\"/></a>"
      ]
    },
    {
      "cell_type": "code",
      "execution_count": 1,
      "metadata": {
        "colab": {
          "base_uri": "https://localhost:8080/",
          "height": 90
        },
        "id": "8AYw_vXT7AqS",
        "outputId": "1971e399-af7d-47b8-8e7d-253d8f104964"
      },
      "outputs": [
        {
          "output_type": "display_data",
          "data": {
            "text/plain": [
              "<IPython.core.display.HTML object>"
            ],
            "text/html": [
              "\n",
              "     <input type=\"file\" id=\"files-cf544f38-0cbb-4bac-92f9-6ae6ec6245f3\" name=\"files[]\" multiple disabled\n",
              "        style=\"border:none\" />\n",
              "     <output id=\"result-cf544f38-0cbb-4bac-92f9-6ae6ec6245f3\">\n",
              "      Upload widget is only available when the cell has been executed in the\n",
              "      current browser session. Please rerun this cell to enable.\n",
              "      </output>\n",
              "      <script>// Copyright 2017 Google LLC\n",
              "//\n",
              "// Licensed under the Apache License, Version 2.0 (the \"License\");\n",
              "// you may not use this file except in compliance with the License.\n",
              "// You may obtain a copy of the License at\n",
              "//\n",
              "//      http://www.apache.org/licenses/LICENSE-2.0\n",
              "//\n",
              "// Unless required by applicable law or agreed to in writing, software\n",
              "// distributed under the License is distributed on an \"AS IS\" BASIS,\n",
              "// WITHOUT WARRANTIES OR CONDITIONS OF ANY KIND, either express or implied.\n",
              "// See the License for the specific language governing permissions and\n",
              "// limitations under the License.\n",
              "\n",
              "/**\n",
              " * @fileoverview Helpers for google.colab Python module.\n",
              " */\n",
              "(function(scope) {\n",
              "function span(text, styleAttributes = {}) {\n",
              "  const element = document.createElement('span');\n",
              "  element.textContent = text;\n",
              "  for (const key of Object.keys(styleAttributes)) {\n",
              "    element.style[key] = styleAttributes[key];\n",
              "  }\n",
              "  return element;\n",
              "}\n",
              "\n",
              "// Max number of bytes which will be uploaded at a time.\n",
              "const MAX_PAYLOAD_SIZE = 100 * 1024;\n",
              "\n",
              "function _uploadFiles(inputId, outputId) {\n",
              "  const steps = uploadFilesStep(inputId, outputId);\n",
              "  const outputElement = document.getElementById(outputId);\n",
              "  // Cache steps on the outputElement to make it available for the next call\n",
              "  // to uploadFilesContinue from Python.\n",
              "  outputElement.steps = steps;\n",
              "\n",
              "  return _uploadFilesContinue(outputId);\n",
              "}\n",
              "\n",
              "// This is roughly an async generator (not supported in the browser yet),\n",
              "// where there are multiple asynchronous steps and the Python side is going\n",
              "// to poll for completion of each step.\n",
              "// This uses a Promise to block the python side on completion of each step,\n",
              "// then passes the result of the previous step as the input to the next step.\n",
              "function _uploadFilesContinue(outputId) {\n",
              "  const outputElement = document.getElementById(outputId);\n",
              "  const steps = outputElement.steps;\n",
              "\n",
              "  const next = steps.next(outputElement.lastPromiseValue);\n",
              "  return Promise.resolve(next.value.promise).then((value) => {\n",
              "    // Cache the last promise value to make it available to the next\n",
              "    // step of the generator.\n",
              "    outputElement.lastPromiseValue = value;\n",
              "    return next.value.response;\n",
              "  });\n",
              "}\n",
              "\n",
              "/**\n",
              " * Generator function which is called between each async step of the upload\n",
              " * process.\n",
              " * @param {string} inputId Element ID of the input file picker element.\n",
              " * @param {string} outputId Element ID of the output display.\n",
              " * @return {!Iterable<!Object>} Iterable of next steps.\n",
              " */\n",
              "function* uploadFilesStep(inputId, outputId) {\n",
              "  const inputElement = document.getElementById(inputId);\n",
              "  inputElement.disabled = false;\n",
              "\n",
              "  const outputElement = document.getElementById(outputId);\n",
              "  outputElement.innerHTML = '';\n",
              "\n",
              "  const pickedPromise = new Promise((resolve) => {\n",
              "    inputElement.addEventListener('change', (e) => {\n",
              "      resolve(e.target.files);\n",
              "    });\n",
              "  });\n",
              "\n",
              "  const cancel = document.createElement('button');\n",
              "  inputElement.parentElement.appendChild(cancel);\n",
              "  cancel.textContent = 'Cancel upload';\n",
              "  const cancelPromise = new Promise((resolve) => {\n",
              "    cancel.onclick = () => {\n",
              "      resolve(null);\n",
              "    };\n",
              "  });\n",
              "\n",
              "  // Wait for the user to pick the files.\n",
              "  const files = yield {\n",
              "    promise: Promise.race([pickedPromise, cancelPromise]),\n",
              "    response: {\n",
              "      action: 'starting',\n",
              "    }\n",
              "  };\n",
              "\n",
              "  cancel.remove();\n",
              "\n",
              "  // Disable the input element since further picks are not allowed.\n",
              "  inputElement.disabled = true;\n",
              "\n",
              "  if (!files) {\n",
              "    return {\n",
              "      response: {\n",
              "        action: 'complete',\n",
              "      }\n",
              "    };\n",
              "  }\n",
              "\n",
              "  for (const file of files) {\n",
              "    const li = document.createElement('li');\n",
              "    li.append(span(file.name, {fontWeight: 'bold'}));\n",
              "    li.append(span(\n",
              "        `(${file.type || 'n/a'}) - ${file.size} bytes, ` +\n",
              "        `last modified: ${\n",
              "            file.lastModifiedDate ? file.lastModifiedDate.toLocaleDateString() :\n",
              "                                    'n/a'} - `));\n",
              "    const percent = span('0% done');\n",
              "    li.appendChild(percent);\n",
              "\n",
              "    outputElement.appendChild(li);\n",
              "\n",
              "    const fileDataPromise = new Promise((resolve) => {\n",
              "      const reader = new FileReader();\n",
              "      reader.onload = (e) => {\n",
              "        resolve(e.target.result);\n",
              "      };\n",
              "      reader.readAsArrayBuffer(file);\n",
              "    });\n",
              "    // Wait for the data to be ready.\n",
              "    let fileData = yield {\n",
              "      promise: fileDataPromise,\n",
              "      response: {\n",
              "        action: 'continue',\n",
              "      }\n",
              "    };\n",
              "\n",
              "    // Use a chunked sending to avoid message size limits. See b/62115660.\n",
              "    let position = 0;\n",
              "    do {\n",
              "      const length = Math.min(fileData.byteLength - position, MAX_PAYLOAD_SIZE);\n",
              "      const chunk = new Uint8Array(fileData, position, length);\n",
              "      position += length;\n",
              "\n",
              "      const base64 = btoa(String.fromCharCode.apply(null, chunk));\n",
              "      yield {\n",
              "        response: {\n",
              "          action: 'append',\n",
              "          file: file.name,\n",
              "          data: base64,\n",
              "        },\n",
              "      };\n",
              "\n",
              "      let percentDone = fileData.byteLength === 0 ?\n",
              "          100 :\n",
              "          Math.round((position / fileData.byteLength) * 100);\n",
              "      percent.textContent = `${percentDone}% done`;\n",
              "\n",
              "    } while (position < fileData.byteLength);\n",
              "  }\n",
              "\n",
              "  // All done.\n",
              "  yield {\n",
              "    response: {\n",
              "      action: 'complete',\n",
              "    }\n",
              "  };\n",
              "}\n",
              "\n",
              "scope.google = scope.google || {};\n",
              "scope.google.colab = scope.google.colab || {};\n",
              "scope.google.colab._files = {\n",
              "  _uploadFiles,\n",
              "  _uploadFilesContinue,\n",
              "};\n",
              "})(self);\n",
              "</script> "
            ]
          },
          "metadata": {}
        },
        {
          "output_type": "stream",
          "name": "stdout",
          "text": [
            "Saving kaggle.json to kaggle.json\n"
          ]
        },
        {
          "output_type": "execute_result",
          "data": {
            "text/plain": [
              "{'kaggle.json': b'{\"username\":\"andrielly\",\"key\":\"7dd932a3b2f2dbb561692b726ebb7f5d\"}'}"
            ]
          },
          "metadata": {},
          "execution_count": 1
        }
      ],
      "source": [
        "from google.colab import files\n",
        "files.upload()\n"
      ]
    },
    {
      "cell_type": "code",
      "source": [
        "import os\n",
        "\n",
        "# Criar pasta .kaggle\n",
        "!mkdir -p ~/.kaggle\n",
        "\n",
        "# Mover o kaggle.json para a pasta .kaggle\n",
        "!mv kaggle.json ~/.kaggle/\n",
        "\n",
        "# Definir permissões adequadas para o arquivo\n",
        "!chmod 600 ~/.kaggle/kaggle.json\n"
      ],
      "metadata": {
        "id": "eCnn9_cr7DrP"
      },
      "execution_count": 2,
      "outputs": []
    },
    {
      "cell_type": "code",
      "source": [
        "# Baixar o dataset específico do Kaggle\n",
        "!kaggle datasets download -d mkechinov/ecommerce-behavior-data-from-multi-category-store"
      ],
      "metadata": {
        "colab": {
          "base_uri": "https://localhost:8080/"
        },
        "id": "tMCLnbQu7Gse",
        "outputId": "c91b9394-46cf-420e-8686-43138a289c31"
      },
      "execution_count": 3,
      "outputs": [
        {
          "output_type": "stream",
          "name": "stdout",
          "text": [
            "Dataset URL: https://www.kaggle.com/datasets/mkechinov/ecommerce-behavior-data-from-multi-category-store\n",
            "License(s): copyright-authors\n",
            "Downloading ecommerce-behavior-data-from-multi-category-store.zip to /content\n",
            "100% 4.28G/4.29G [00:53<00:00, 119MB/s]\n",
            "100% 4.29G/4.29G [00:53<00:00, 85.6MB/s]\n"
          ]
        }
      ]
    },
    {
      "cell_type": "code",
      "source": [
        "# Descompactar o arquivo\n",
        "import zipfile\n",
        "\n",
        "# Descompactar o arquivo ZIP\n",
        "with zipfile.ZipFile('ecommerce-behavior-data-from-multi-category-store.zip', 'r') as zip_ref:\n",
        "    zip_ref.extractall('ecommerce_data')"
      ],
      "metadata": {
        "id": "zVypXrsP7HZ2"
      },
      "execution_count": 4,
      "outputs": []
    },
    {
      "cell_type": "code",
      "source": [
        "import pandas as pd\n",
        "import numpy as np\n",
        "import matplotlib.pyplot as plt\n",
        "\n",
        "# Carregar um subset dos dados\n",
        "file_path = 'ecommerce_data/2019-Nov.csv'\n",
        "chunk_size = 1000000\n",
        "chunks = []\n",
        "\n",
        "for chunk in pd.read_csv(file_path, chunksize=chunk_size):\n",
        "    chunks.append(chunk)\n",
        "    if len(chunks) >= 5:  # Carregar mais registros (5 chunks)\n",
        "        break\n",
        "\n",
        "df = pd.concat(chunks, axis=0)"
      ],
      "metadata": {
        "id": "UAGE2xAG7akv"
      },
      "execution_count": 5,
      "outputs": []
    },
    {
      "cell_type": "code",
      "source": [
        "# Verificar valores ausentes\n",
        "print(\"Valores ausentes antes do preenchimento:\\n\", df.isnull().sum())"
      ],
      "metadata": {
        "colab": {
          "base_uri": "https://localhost:8080/"
        },
        "id": "Eafck2kI-24f",
        "outputId": "fbca5355-49ec-45e0-f679-f0a38de5ecf8"
      },
      "execution_count": 6,
      "outputs": [
        {
          "output_type": "stream",
          "name": "stdout",
          "text": [
            "Valores ausentes antes do preenchimento:\n",
            " event_time             0\n",
            "event_type             0\n",
            "product_id             0\n",
            "category_id            0\n",
            "category_code    1602394\n",
            "brand             727867\n",
            "price                  0\n",
            "user_id                0\n",
            "user_session           0\n",
            "dtype: int64\n"
          ]
        }
      ]
    },
    {
      "cell_type": "code",
      "source": [
        "# Preencher valores ausentes nas colunas category_code e brand\n",
        "df['category_code'].fillna('Unknown', inplace=True)\n",
        "df['brand'].fillna('Unknown', inplace=True)"
      ],
      "metadata": {
        "id": "Wl69Mwch_GRf"
      },
      "execution_count": 7,
      "outputs": []
    },
    {
      "cell_type": "code",
      "source": [
        "# Verificar e remover duplicatas baseadas em colunas que indicam o mesmo evento\n",
        "print(f\"Número de linhas antes da remoção de duplicatas: {df.shape[0]}\")\n",
        "df_cleaned = df.drop_duplicates(subset=['user_id', 'event_time', 'category_code', 'brand', 'price'])\n",
        "print(f\"Número de linhas após a remoção de duplicatas: {df_cleaned.shape[0]}\")"
      ],
      "metadata": {
        "colab": {
          "base_uri": "https://localhost:8080/"
        },
        "id": "RkSlIUBE_Zr1",
        "outputId": "71758a58-e7ac-42fa-e54c-7d7215cf821b"
      },
      "execution_count": 8,
      "outputs": [
        {
          "output_type": "stream",
          "name": "stdout",
          "text": [
            "Número de linhas antes da remoção de duplicatas: 5000000\n",
            "Número de linhas após a remoção de duplicatas: 4997407\n"
          ]
        }
      ]
    },
    {
      "cell_type": "code",
      "source": [
        "# Verificar se ainda há valores ausentes\n",
        "print(\"Valores ausentes após o preenchimento e remoção de duplicatas:\\n\", df_cleaned.isnull().sum())"
      ],
      "metadata": {
        "colab": {
          "base_uri": "https://localhost:8080/"
        },
        "id": "aiBOnUa6_lxH",
        "outputId": "e683ea81-7d9a-424f-d340-ce15fce3df07"
      },
      "execution_count": 9,
      "outputs": [
        {
          "output_type": "stream",
          "name": "stdout",
          "text": [
            "Valores ausentes após o preenchimento e remoção de duplicatas:\n",
            " event_time       0\n",
            "event_type       0\n",
            "product_id       0\n",
            "category_id      0\n",
            "category_code    0\n",
            "brand            0\n",
            "price            0\n",
            "user_id          0\n",
            "user_session     0\n",
            "dtype: int64\n"
          ]
        }
      ]
    },
    {
      "cell_type": "code",
      "source": [
        "# Corrigir tipos de dados, se necessário (exemplo: converter para datetime)\n",
        "df_cleaned['event_time'] = pd.to_datetime(df_cleaned['event_time'])\n",
        "if 'start_time' in df_cleaned.columns:\n",
        "    df_cleaned['start_time'] = pd.to_datetime(df_cleaned['start_time'])\n",
        "if 'end_time' in df_cleaned.columns:\n",
        "    df_cleaned['end_time'] = pd.to_datetime(df_cleaned['end_time'])"
      ],
      "metadata": {
        "colab": {
          "base_uri": "https://localhost:8080/"
        },
        "id": "6s5RSzQa_sCX",
        "outputId": "5b5c338a-3abd-40ac-b2f6-9963771a5dfc"
      },
      "execution_count": 10,
      "outputs": [
        {
          "output_type": "stream",
          "name": "stderr",
          "text": [
            "<ipython-input-10-e4cbd4256b4c>:2: SettingWithCopyWarning: \n",
            "A value is trying to be set on a copy of a slice from a DataFrame.\n",
            "Try using .loc[row_indexer,col_indexer] = value instead\n",
            "\n",
            "See the caveats in the documentation: https://pandas.pydata.org/pandas-docs/stable/user_guide/indexing.html#returning-a-view-versus-a-copy\n",
            "  df_cleaned['event_time'] = pd.to_datetime(df_cleaned['event_time'])\n"
          ]
        }
      ]
    },
    {
      "cell_type": "code",
      "source": [
        "# Exemplo: verificar valores negativos em colunas que não deveriam tê-los\n",
        "df_cleaned = df_cleaned[df_cleaned['price'] >= 0]"
      ],
      "metadata": {
        "id": "13x5JHSUBP-R"
      },
      "execution_count": 11,
      "outputs": []
    },
    {
      "cell_type": "code",
      "source": [
        "# Salvar o conjunto de dados limpo\n",
        "df_cleaned.to_csv('cleaned_data.csv', index=False)\n",
        "\n",
        "print(\"Dados limpos e salvos com sucesso.\")"
      ],
      "metadata": {
        "colab": {
          "base_uri": "https://localhost:8080/"
        },
        "id": "NnX72POJBbVv",
        "outputId": "d5d3b543-4674-4e1b-e545-e014b2a64e1a"
      },
      "execution_count": 12,
      "outputs": [
        {
          "output_type": "stream",
          "name": "stdout",
          "text": [
            "Dados limpos e salvos com sucesso.\n"
          ]
        }
      ]
    },
    {
      "cell_type": "markdown",
      "source": [
        "# Salvar o arquivo no Google Drive"
      ],
      "metadata": {
        "id": "G12u8_ui-UqB"
      }
    },
    {
      "cell_type": "code",
      "source": [
        "from google.colab import drive\n",
        "drive.mount('/content/drive')\n",
        "\n",
        "# Salvar o arquivo CSV no Google Drive\n",
        "!cp cleaned_data.csv /content/drive/MyDrive/\n"
      ],
      "metadata": {
        "colab": {
          "base_uri": "https://localhost:8080/"
        },
        "id": "k0q_jClQ-SxA",
        "outputId": "1dc92027-bbec-4ed1-fecd-de8452841335"
      },
      "execution_count": 31,
      "outputs": [
        {
          "output_type": "stream",
          "name": "stdout",
          "text": [
            "Mounted at /content/drive\n"
          ]
        }
      ]
    },
    {
      "cell_type": "markdown",
      "source": [
        "# Enviar o Datase para o gitHub"
      ],
      "metadata": {
        "id": "oJa5cnWt7KjI"
      }
    },
    {
      "cell_type": "markdown",
      "source": [
        "Como o dataset excede o limite de tamanho de 100 MB do GitHub.  Para lidar com arquivos grandes, vamos usar o Git Large File Storage (Git LFS)."
      ],
      "metadata": {
        "id": "RdWgkC247UZH"
      }
    },
    {
      "cell_type": "code",
      "source": [
        "# Instalar o Git LFS\n",
        "!curl -s https://packagecloud.io/install/repositories/github/git-lfs/script.deb.sh | sudo bash\n",
        "!sudo apt-get install git-lfs\n",
        "!git lfs install\n"
      ],
      "metadata": {
        "colab": {
          "base_uri": "https://localhost:8080/"
        },
        "id": "JkCdpSmK7JRx",
        "outputId": "dc96f695-9e22-4b0c-d5cc-694cbe767158"
      },
      "execution_count": 27,
      "outputs": [
        {
          "output_type": "stream",
          "name": "stdout",
          "text": [
            "Detected operating system as Ubuntu/jammy.\n",
            "Checking for curl...\n",
            "Detected curl...\n",
            "Checking for gpg...\n",
            "Detected gpg...\n",
            "Detected apt version as 2.4.12\n",
            "Running apt-get update... done.\n",
            "Installing apt-transport-https... done.\n",
            "Installing /etc/apt/sources.list.d/github_git-lfs.list...done.\n",
            "Importing packagecloud gpg key... Packagecloud gpg key imported to /etc/apt/keyrings/github_git-lfs-archive-keyring.gpg\n",
            "done.\n",
            "Running apt-get update... done.\n",
            "\n",
            "The repository is setup! You can now install packages.\n",
            "Reading package lists... Done\n",
            "Building dependency tree... Done\n",
            "Reading state information... Done\n",
            "git-lfs is already the newest version (3.5.1).\n",
            "0 upgraded, 0 newly installed, 0 to remove and 50 not upgraded.\n",
            "Updated Git hooks.\n",
            "Git LFS initialized.\n"
          ]
        }
      ]
    },
    {
      "cell_type": "code",
      "source": [
        "# Clone o repositório do GitHub para o Google Colab\n",
        "\n",
        "from getpass import getpass\n",
        "\n",
        "# Peça ao usuário o token de acesso pessoal do GitHub\n",
        "token = getpass('Enter your GitHub token: ')\n",
        "\n",
        "# Clone o repositório usando o token\n",
        "!git clone https://{token}@github.com/andriellymoraespereira/analise-de-visitas-em-ecommerce.git"
      ],
      "metadata": {
        "colab": {
          "base_uri": "https://localhost:8080/"
        },
        "id": "rNY85x8o0xuv",
        "outputId": "97663751-bdd2-4dd5-cf9c-bcd098af71e4"
      },
      "execution_count": 28,
      "outputs": [
        {
          "output_type": "stream",
          "name": "stdout",
          "text": [
            "Enter your GitHub token: ··········\n",
            "Cloning into 'analise-de-visitas-em-ecommerce'...\n",
            "remote: Enumerating objects: 6, done.\u001b[K\n",
            "remote: Counting objects: 100% (6/6), done.\u001b[K\n",
            "remote: Compressing objects: 100% (4/4), done.\u001b[K\n",
            "remote: Total 6 (delta 0), reused 0 (delta 0), pack-reused 0\u001b[K\n",
            "Receiving objects: 100% (6/6), 6.73 KiB | 430.00 KiB/s, done.\n"
          ]
        }
      ]
    },
    {
      "cell_type": "code",
      "source": [
        "# Configurar o Git LFS para o Arquivo Grande\n",
        "import os\n",
        "\n",
        "# Navegue até o diretório do repositório clonado\n",
        "os.chdir('analise-de-visitas-em-ecommerce')\n",
        "\n",
        "# Configurar o Git LFS para rastrear o arquivo CSV\n",
        "!git lfs track \"cleaned_data.csv\"\n"
      ],
      "metadata": {
        "colab": {
          "base_uri": "https://localhost:8080/"
        },
        "id": "rAYEGZ_h8e1Y",
        "outputId": "a730d76e-4eee-4665-d02e-206098e910f0"
      },
      "execution_count": 29,
      "outputs": [
        {
          "output_type": "stream",
          "name": "stdout",
          "text": [
            "Tracking \"cleaned_data.csv\"\n"
          ]
        }
      ]
    },
    {
      "cell_type": "code",
      "source": [
        "# Mover o Arquivo, Fazer Commit e Enviar para o GitHub\n",
        "import shutil\n",
        "\n",
        "# Move o arquivo cleaned_data.csv para o diretório do repositório clonado\n",
        "shutil.move('../cleaned_data.csv', '.')\n",
        "\n",
        "# Adicione o arquivo ao repositório\n",
        "!git add .gitattributes cleaned_data.csv\n",
        "\n",
        "# Faça commit do arquivo\n",
        "!git commit -m \"Add cleaned data using Git LFS\"\n",
        "\n",
        "# Envie para o repositório no GitHub\n",
        "!git push origin main\n"
      ],
      "metadata": {
        "colab": {
          "base_uri": "https://localhost:8080/"
        },
        "id": "akI12lpf37mP",
        "outputId": "5a1315a3-1f45-4500-818c-9fcd5c3bf0dd"
      },
      "execution_count": 30,
      "outputs": [
        {
          "output_type": "stream",
          "name": "stdout",
          "text": [
            "[main 7debe65] Add cleaned data using Git LFS\n",
            " 2 files changed, 4 insertions(+)\n",
            " create mode 100644 .gitattributes\n",
            " create mode 100644 cleaned_data.csv\n",
            "Uploading LFS objects: 100% (1/1), 693 MB | 71 MB/s, done.\n",
            "Enumerating objects: 5, done.\n",
            "Counting objects: 100% (5/5), done.\n",
            "Delta compression using up to 2 threads\n",
            "Compressing objects: 100% (4/4), done.\n",
            "Writing objects: 100% (4/4), 554 bytes | 554.00 KiB/s, done.\n",
            "Total 4 (delta 0), reused 0 (delta 0), pack-reused 0\n",
            "To https://github.com/andriellymoraespereira/analise-de-visitas-em-ecommerce.git\n",
            "   0ee3729..7debe65  main -> main\n"
          ]
        }
      ]
    }
  ]
}